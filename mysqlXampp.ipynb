{
 "cells": [
  {
   "cell_type": "markdown",
   "id": "ca318bb9",
   "metadata": {},
   "source": [
    "# Datos importantes:\n",
    " - pais q se puede sacar con la region lat y lon creo\n",
    " - leer que hace cada puto atributo\n",
    " - ya se guarda todo bien ns como (revisar todo el codigo)"
   ]
  },
  {
   "cell_type": "markdown",
   "id": "86b8f972",
   "metadata": {},
   "source": [
    "### Función para descomprimir los datos del socket"
   ]
  },
  {
   "cell_type": "code",
   "execution_count": 35,
   "id": "9737948a",
   "metadata": {},
   "outputs": [],
   "source": [
    "def lzw_decompress(compressed_str):\n",
    "    compressed = [ord(c) for c in compressed_str]\n",
    "    dict_size = 256\n",
    "    dictionary = {i: chr(i) for i in range(dict_size)}\n",
    "\n",
    "    result = []\n",
    "    w = chr(compressed.pop(0))\n",
    "    result.append(w)\n",
    "\n",
    "    for k in compressed:\n",
    "        if k in dictionary:\n",
    "            entry = dictionary[k]\n",
    "        elif k == dict_size:\n",
    "            entry = w + w[0]\n",
    "        else:\n",
    "            raise ValueError(f\"Bad compressed k: {k}\")\n",
    "        result.append(entry)\n",
    "\n",
    "        # Add w+entry[0] to the dictionary\n",
    "        dictionary[dict_size] = w + entry[0]\n",
    "        dict_size += 1\n",
    "\n",
    "        w = entry\n",
    "\n",
    "    return \"\".join(result)\n"
   ]
  },
  {
   "cell_type": "markdown",
   "id": "d21aae97",
   "metadata": {},
   "source": [
    "### Funcion para limpiar"
   ]
  },
  {
   "cell_type": "code",
   "execution_count": 36,
   "id": "14fd1fdc",
   "metadata": {},
   "outputs": [],
   "source": [
    "from datetime import datetime, timezone\n",
    "\n",
    "def limpiar_datos(d):\n",
    "    time_ns = d.get(\"time\")\n",
    "\n",
    "    try:\n",
    "        # Convertir a segundos desde nanosegundos\n",
    "        timestamp_sec = int(time_ns) / 1e9\n",
    "        dt = datetime.fromtimestamp(timestamp_sec, tz=timezone.utc)\n",
    "        fecha = dt.strftime(\"%Y-%m-%d\")\n",
    "        hora = dt.strftime(\"%H:%M:%S\")\n",
    "    except Exception as e:\n",
    "        print(\"⚠️ Error al convertir timestamp:\", time_ns, e)\n",
    "        fecha = \"1970-01-01\"\n",
    "        hora = \"00:00:00\"\n",
    "\n",
    "    datos_limpios = {\n",
    "        \"time\": int(time_ns),\n",
    "        \"lat\": d.get(\"lat\"),\n",
    "        \"lon\": d.get(\"lon\"),\n",
    "        \"alt\": d.get(\"alt\"),\n",
    "        \"pol\": d.get(\"pol\"),\n",
    "        \"mds\": d.get(\"mds\"),\n",
    "        \"mcg\": d.get(\"mcg\"),\n",
    "        \"status\": d.get(\"status\"),\n",
    "        \"region\": d.get(\"region\"),\n",
    "        \"delay\": d.get(\"delay\"),\n",
    "        \"lonc\": d.get(\"lonc\"),\n",
    "        \"latc\": d.get(\"latc\"),\n",
    "        \"fecha\": fecha,\n",
    "        \"hora\": hora\n",
    "    }\n",
    "\n",
    "    return datos_limpios\n"
   ]
  },
  {
   "cell_type": "markdown",
   "id": "34e502cb",
   "metadata": {},
   "source": [
    "### Función para insertar los datos en MYSQL XAMPP"
   ]
  },
  {
   "cell_type": "code",
   "execution_count": 37,
   "id": "3e3fd004",
   "metadata": {},
   "outputs": [],
   "source": [
    "import mysql.connector\n",
    "\n",
    "def guardar_rayo_mysql(data):\n",
    "    try:\n",
    "        conn = mysql.connector.connect(\n",
    "            host=\"localhost\",\n",
    "            user=\"root\",\n",
    "            password=\"\",\n",
    "            database=\"rayos\"\n",
    "        )\n",
    "        cursor = conn.cursor()\n",
    "        cursor.execute(\"\"\"\n",
    "            INSERT INTO rayos (time, lat, lon, alt, pol, mds, mcg, status, region, delay, lonc, latc, fecha, hora)\n",
    "            VALUES (%s, %s, %s, %s, %s, %s, %s, %s, %s, %s, %s, %s, %s, %s)\n",
    "        \"\"\", (\n",
    "            data.get(\"time\"),\n",
    "            data.get(\"lat\"),\n",
    "            data.get(\"lon\"),\n",
    "            data.get(\"alt\"),\n",
    "            data.get(\"pol\"),\n",
    "            data.get(\"mds\"),\n",
    "            data.get(\"mcg\"),\n",
    "            data.get(\"status\"),\n",
    "            data.get(\"region\"),\n",
    "            data.get(\"delay\"),\n",
    "            data.get(\"lonc\"),\n",
    "            data.get(\"latc\"),\n",
    "            data.get(\"fecha\"),\n",
    "            data.get(\"hora\")\n",
    "        ))\n",
    "        conn.commit()\n",
    "        cursor.close()\n",
    "        conn.close()\n",
    "    except Exception as e:\n",
    "        print(\"❌ Error al guardar en MySQL:\", e)\n"
   ]
  },
  {
   "cell_type": "markdown",
   "id": "0cee6f98",
   "metadata": {},
   "source": [
    "# Lectura del socket y guardado a MYSQL XAMPP\n"
   ]
  },
  {
   "cell_type": "code",
   "execution_count": 39,
   "id": "8120e8e3",
   "metadata": {},
   "outputs": [
    {
     "name": "stdout",
     "output_type": "stream",
     "text": [
      "✅ Rayo 1 guardado: 1752701401897536300\n",
      "✅ Rayo 2 guardado: 1752701400716851700\n",
      "✅ Rayo 3 guardado: 1752701407549978400\n",
      "✅ Rayo 4 guardado: 1752701407549986800\n",
      "✅ Rayo 5 guardado: 1752701407550045700\n",
      "✅ Rayo 6 guardado: 1752701407624181200\n",
      "✅ Rayo 7 guardado: 1752701407718235100\n"
     ]
    },
    {
     "name": "stderr",
     "output_type": "stream",
     "text": [
      "Unclosed client session\n",
      "client_session: <aiohttp.client.ClientSession object at 0x0000020E8936B2B0>\n"
     ]
    },
    {
     "name": "stdout",
     "output_type": "stream",
     "text": [
      "✅ Rayo 8 guardado: 1752701408010718500\n",
      "✅ Rayo 9 guardado: 1752701408010788000\n",
      "✅ Rayo 10 guardado: 1752701408198030000\n",
      "✅ Se han procesado 10 rayos. Finalizando...\n"
     ]
    }
   ],
   "source": [
    "import json\n",
    "import aiohttp\n",
    "import asyncio\n",
    "\n",
    "async def escuchar():\n",
    "    url = \"wss://ws2.blitzortung.org/\"\n",
    "    headers = {\n",
    "        \"Origin\": \"https://www.blitzortung.org\",\n",
    "        \"User-Agent\": \"Mozilla/5.0\",\n",
    "    }\n",
    "\n",
    "    session = aiohttp.ClientSession()\n",
    "    contador_rayos = 0\n",
    "\n",
    "    try:\n",
    "        async with session.ws_connect(url, headers=headers) as ws:\n",
    "            await ws.send_str('{\"a\":111}')  # handshake inicial\n",
    "\n",
    "            async for msg in ws:\n",
    "                if msg.type == aiohttp.WSMsgType.TEXT:\n",
    "                    try:\n",
    "                        raw = msg.data\n",
    "                        texto = lzw_decompress(raw)\n",
    "                        data = json.loads(texto)\n",
    "\n",
    "                        rayo_principal = limpiar_datos(data)\n",
    "                        if rayo_principal is not None:\n",
    "                            guardar_rayo_mysql(rayo_principal)\n",
    "                            contador_rayos += 1\n",
    "                            print(f\"✅ Rayo {contador_rayos} guardado: {rayo_principal['time']}\")\n",
    "\n",
    "                        if contador_rayos >= 10:\n",
    "                            print(\"✅ Se han procesado 10 rayos. Finalizando...\")\n",
    "                            break\n",
    "                    except Exception as e:\n",
    "                        print(\"❌ Error al procesar mensaje:\", e)\n",
    "                elif msg.type in [aiohttp.WSMsgType.CLOSED, aiohttp.WSMsgType.ERROR]:\n",
    "                    print(\"❌ WebSocket cerrado o con error\")\n",
    "                    break\n",
    "    finally:\n",
    "        await session.close()\n",
    "\n",
    "# Ejecutar el bucle\n",
    "await escuchar()\n"
   ]
  },
  {
   "cell_type": "code",
   "execution_count": null,
   "id": "522e4c75",
   "metadata": {},
   "outputs": [],
   "source": []
  }
 ],
 "metadata": {
  "kernelspec": {
   "display_name": "Python 3",
   "language": "python",
   "name": "python3"
  },
  "language_info": {
   "codemirror_mode": {
    "name": "ipython",
    "version": 3
   },
   "file_extension": ".py",
   "mimetype": "text/x-python",
   "name": "python",
   "nbconvert_exporter": "python",
   "pygments_lexer": "ipython3",
   "version": "3.10.0"
  }
 },
 "nbformat": 4,
 "nbformat_minor": 5
}
